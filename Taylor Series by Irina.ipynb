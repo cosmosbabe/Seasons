{
 "cells": [
  {
   "cell_type": "code",
   "execution_count": 1,
   "id": "8c23f7fd",
   "metadata": {},
   "outputs": [],
   "source": [
    "%matplotlib inline"
   ]
  },
  {
   "cell_type": "code",
   "execution_count": 2,
   "id": "188f96d5",
   "metadata": {},
   "outputs": [],
   "source": [
    "import math\n",
    "import numpy as np\n",
    "import matplotlib.pyplot as plt"
   ]
  },
  {
   "cell_type": "markdown",
   "id": "336b818a",
   "metadata": {},
   "source": [
    "<p style = \"text-align: right; color: darkslategray; font-size: 22px\" > Taylor Series..............."
   ]
  },
  {
   "cell_type": "markdown",
   "id": "62376c86",
   "metadata": {},
   "source": [
    "The study of series is a major part of $calculus$. A series is the operation of adding infinitely many quantities, one after another. Series is a count noun, describing a group of things or events, and therefore singular. A series."
   ]
  },
  {
   "cell_type": "markdown",
   "id": "6d1f2a50",
   "metadata": {},
   "source": [
    "The \"Taylor series\" or \"Taylor expansion\" of a function is an infinite sum, expressed in terms of the function's derivatives at a single point. They are named after the English mathematician Brook Taylor, who introduced them in 1715. He used this development to determine the form of movement in vibrating strings and set forth the principles of perspective in a more understandable form. Here the sigma notation and below the following series:"
   ]
  },
  {
   "cell_type": "markdown",
   "id": "472ea8e2",
   "metadata": {},
   "source": [
    "$$ \\sum_{n=0}^{\\infty} \\dfrac{f^{(n)}(a)}{n!} (x-a)^{n} $$"
   ]
  },
  {
   "cell_type": "markdown",
   "id": "892bd547",
   "metadata": {},
   "source": [
    "- $n!$  factorial number, same as power\n",
    "- $(a)$ real number or complex number ($a$ + $bi$)\n",
    "- $f^{(n)} (a)$ is the $n$-th derivative of $f$ evaluated at the point $a$"
   ]
  },
  {
   "cell_type": "markdown",
   "id": "af9cb118",
   "metadata": {},
   "source": [
    "$$ \\dfrac{1}{n!}{f^{(n)}(a)}(x-a)^n = f(a) + f'(a)(x-a) + \\dfrac{1}{2!}f''(a)(x-a)^2 + \\dfrac{1}{3!}f'''(a)(x-a)^3 + \\dfrac{1}{4!}f^4(a)(x-a)^4 + \\dfrac{1}{5!}f^5(a)(x-a)^5 + ... $$"
   ]
  },
  {
   "cell_type": "markdown",
   "id": "31a6e63a",
   "metadata": {},
   "source": [
    "If in the above formula, $a = 0$, then the expansion is known as Maclaurin Series and the polynomial looks like this:"
   ]
  },
  {
   "cell_type": "markdown",
   "id": "7d4760a7",
   "metadata": {},
   "source": [
    "$$ \\dfrac{1}{n!}f^{n}(0)x^{n} = f(0) + f'(0)x + \\dfrac{1}{2!}f''(0)x^2 + \\dfrac{1}{3!}f'''(0)x^3 + \\dfrac{1}{4!}f^4(0)x^4 + \\dfrac{1}{5!}f^5(0)x^5 + ... $$"
   ]
  },
  {
   "cell_type": "markdown",
   "id": "9d90ed78",
   "metadata": {},
   "source": [
    "We could define a power series also as exponential function $e^x$ in form of:"
   ]
  },
  {
   "cell_type": "markdown",
   "id": "dcfccae4",
   "metadata": {},
   "source": [
    "$$ \\sum_{n=0}^{\\infty} a_{n} x^n = a_{0} + a_{1}x + a_{2}x^2 + a_{3}x^3 + ... +  a_{n}x^n $$"
   ]
  },
  {
   "cell_type": "markdown",
   "id": "6da9ad8f",
   "metadata": {},
   "source": [
    "or $$ \\sum_{n=0}^{\\infty}\\dfrac{x^n}{n!}$$"
   ]
  },
  {
   "cell_type": "markdown",
   "id": "c43900b9",
   "metadata": {},
   "source": [
    "If $x = 0$:\n",
    "- $f(x) = a_0$"
   ]
  },
  {
   "cell_type": "markdown",
   "id": "9d2527c8",
   "metadata": {},
   "source": [
    "After differentiating $f(x)$, we get:\n",
    "- $f'(x) = a_1 + 2a_{2}x + 3a_{3}x^{2} + 4a_{4}x^3 + 5a_{5}x^4 + 6a_{6}x^5 + 7a_{7}x^6 + 8a_{8}x^7 + 9a_{9}x^8 + 10a_{10}x^9 + 11a_{11}x^{10} + 12a_{12}x^{11} + ...$"
   ]
  },
  {
   "cell_type": "markdown",
   "id": "ffe42014",
   "metadata": {},
   "source": [
    "If $x = 0$:\n",
    "- $f'(0) = a_1$"
   ]
  },
  {
   "cell_type": "markdown",
   "id": "db1f92c3",
   "metadata": {},
   "source": [
    "We differentiate again and get:\n",
    "- $ f''(x) = 2a_{2} + 6a_{3}x + 12a_{4}x^2 + 20a_{5}x^3 + 30a_{6}x^4 + 42a_{7}x^5 + 56a_{8}x^6 + 72a_{9}x^7 + 90a_{10}x^8 + 110a_{11}x^9 + 132a_{12}x^{10} + ... $"
   ]
  },
  {
   "cell_type": "markdown",
   "id": "5a31ee6a",
   "metadata": {},
   "source": [
    "Again, if $x=0$:\n",
    "- $f''(0) = 2a_2$"
   ]
  },
  {
   "cell_type": "markdown",
   "id": "e0ef2872",
   "metadata": {},
   "source": [
    "We have:\n",
    "* $ \\dfrac{f''(0)}{2!} = a_{2} $"
   ]
  },
  {
   "cell_type": "markdown",
   "id": "9ecd6472",
   "metadata": {},
   "source": [
    "Therefore:\n",
    "- $ \\dfrac{f^{n}(0)}{n!} = a_{n} $"
   ]
  },
  {
   "cell_type": "markdown",
   "id": "fe351fa4",
   "metadata": {},
   "source": [
    ">>> Each term in the Taylor Series expansion dependents on that term's place in the series."
   ]
  },
  {
   "cell_type": "code",
   "execution_count": 3,
   "id": "75103352",
   "metadata": {},
   "outputs": [],
   "source": [
    "def factorial(n):       # a little help with the calculation\n",
    "    \n",
    "    if n == 1:\n",
    "        return 1\n",
    "    else:\n",
    "        return (n * factorial(n - 1))"
   ]
  },
  {
   "cell_type": "code",
   "execution_count": 4,
   "id": "d5933da8",
   "metadata": {},
   "outputs": [
    {
     "data": {
      "text/plain": [
       "2"
      ]
     },
     "execution_count": 4,
     "metadata": {},
     "output_type": "execute_result"
    }
   ],
   "source": [
    "factorial(2)"
   ]
  },
  {
   "cell_type": "markdown",
   "id": "2f862d80",
   "metadata": {},
   "source": [
    "#### What is \"function approximation\"?"
   ]
  },
  {
   "cell_type": "markdown",
   "id": "120e4226",
   "metadata": {},
   "source": [
    "An approximation (approx.) is very near to, but not exactly the same, like $\\pi \\approx 3.14$ or Euler's number $e \\approx 2.71828$. Function approximations are used where theoretical models are unavailable or hard to compute and the state space is too large. An approximate model is used to make calculations easier and in neural networks, we approximate an unknown function based on examples."
   ]
  },
  {
   "cell_type": "code",
   "execution_count": 5,
   "id": "50184e82",
   "metadata": {},
   "outputs": [
    {
     "data": {
      "text/plain": [
       "1.0"
      ]
     },
     "execution_count": 5,
     "metadata": {},
     "output_type": "execute_result"
    }
   ],
   "source": [
    "math.exp(0)"
   ]
  },
  {
   "cell_type": "code",
   "execution_count": 6,
   "id": "f2c07a79",
   "metadata": {},
   "outputs": [
    {
     "data": {
      "text/plain": [
       "2.718281828459045"
      ]
     },
     "execution_count": 6,
     "metadata": {},
     "output_type": "execute_result"
    }
   ],
   "source": [
    "math.exp(1)   # Euler's number is the base of the natural logarithm, used in exponential growth or decay"
   ]
  },
  {
   "cell_type": "code",
   "execution_count": 7,
   "id": "1113cdd9",
   "metadata": {},
   "outputs": [
    {
     "data": {
      "text/plain": [
       "148.4131591025766"
      ]
     },
     "execution_count": 7,
     "metadata": {},
     "output_type": "execute_result"
    }
   ],
   "source": [
    "math.exp(5)        # e^5"
   ]
  },
  {
   "cell_type": "code",
   "execution_count": 8,
   "id": "9340e0ee",
   "metadata": {},
   "outputs": [
    {
     "data": {
      "text/plain": [
       "148.4131591025766"
      ]
     },
     "execution_count": 8,
     "metadata": {},
     "output_type": "execute_result"
    }
   ],
   "source": [
    "np.exp(5)             # NumPy for plotting"
   ]
  },
  {
   "cell_type": "markdown",
   "id": "76724649",
   "metadata": {},
   "source": [
    "Taylor approximations are good approximations to the function locally, near a specific point and the simplest functions are those that are constants, fixed."
   ]
  },
  {
   "cell_type": "code",
   "execution_count": 9,
   "id": "96c04d08",
   "metadata": {},
   "outputs": [],
   "source": [
    "def exp_series(x):\n",
    "    return np.exp(x)"
   ]
  },
  {
   "cell_type": "code",
   "execution_count": 10,
   "id": "d9e5420a",
   "metadata": {},
   "outputs": [
    {
     "data": {
      "text/plain": [
       "148.4131591025766"
      ]
     },
     "execution_count": 10,
     "metadata": {},
     "output_type": "execute_result"
    }
   ],
   "source": [
    "exp_series(5)             # test function"
   ]
  },
  {
   "cell_type": "code",
   "execution_count": 11,
   "id": "70464caa",
   "metadata": {},
   "outputs": [
    {
     "data": {
      "image/png": "[encoded data removed]",
      "text/plain": [
       "<Figure size 500x400 with 1 Axes>"
      ]
     },
     "metadata": {},
     "output_type": "display_data"
    }
   ],
   "source": [
    "plt.figure(figsize = (5, 4))\n",
    "    \n",
    "x = np.linspace(-3, 5, 1000)\n",
    "y = exp_series(x)\n",
    "\n",
    "plt.plot(x, y, color = \"darkslategray\", label = \"$e^x$\", lw = 1.8)\n",
    "plt.title(\"Taylor series as exponential function $e^x$\", fontsize = \"9\")\n",
    "plt.xlabel(\"x-axis\", fontsize = \"8\")\n",
    "plt.ylabel(\"Expansion\", fontsize = \"8\")\n",
    "plt.legend(fontsize = 8)\n",
    "    \n",
    "plt.show()"
   ]
  },
  {
   "cell_type": "code",
   "execution_count": 12,
   "id": "de5cebdc",
   "metadata": {},
   "outputs": [
    {
     "data": {
      "image/png": "[encoded data removed]",
      "text/plain": [
       "<Figure size 500x400 with 1 Axes>"
      ]
     },
     "metadata": {},
     "output_type": "display_data"
    }
   ],
   "source": [
    "plt.figure(figsize = (5, 4))\n",
    "\n",
    "# as the range goes wider, the expansion point changes\n",
    "x = np.linspace(-3, 5, 1000)       \n",
    "\n",
    "# plot function\n",
    "plt.plot(x, exp_series(x), \"darkslateblue\", label = \"$e^x$ function\", lw = 1.8)\n",
    "\n",
    "# define approximation\n",
    "point = 2.0\n",
    "plt.plot(point, exp_series(point), \"mo\", label = \"Expansion point\")\n",
    "\n",
    "# plot the constant approximation\n",
    "y = exp_series(point) * np.ones_like(x)   # same dimensions\n",
    "plt.plot(x, y, \"plum\", label = 'Constant approximation')\n",
    "\n",
    "plt.title('A constant approximation', fontsize = 10)\n",
    "plt.xlabel(\"$x$-axis\", fontsize = 8)\n",
    "plt.ylabel(\"Expansion\", fontsize = 8)\n",
    "plt.legend(fontsize = 8)\n",
    "\n",
    "plt.show()"
   ]
  },
  {
   "cell_type": "markdown",
   "id": "b2595032",
   "metadata": {},
   "source": [
    "#### Polynomial functions are very useful approximators. Why? Think about their continuity and derivatives."
   ]
  },
  {
   "cell_type": "markdown",
   "id": "85781b12",
   "metadata": {},
   "source": [
    "Terms of a polynomial with infinite terms = series. It helps us to find the value of functions that don’t have a simple formula, like $sin(x)$, $cos(x)$, $e^x$, etc. Polynomials help because they are much easier to solve and deal with, and Taylor series is the polynomial of an infinite sum of terms. Each successive term of a polynomial will have a greater exponent or higher degree than the preceding term."
   ]
  },
  {
   "cell_type": "markdown",
   "id": "6a0fe4f8",
   "metadata": {},
   "source": [
    "We could approximate the value of the function $f(x) = 5x^2 + 3x + 5$:"
   ]
  },
  {
   "cell_type": "markdown",
   "id": "3018f85c",
   "metadata": {},
   "source": [
    "First compute the derivatives:\n",
    "- $f'(x) = 10x + 3$\n",
    "- $f''(x) = 10$"
   ]
  },
  {
   "cell_type": "markdown",
   "id": "22e6642e",
   "metadata": {},
   "source": [
    "Imagine a function $y = f(x)$ and a point $(a, f(a))$... The derivative $f'(a)$ gives the rate of change of $f$ at $x = a$. Of all lines that pass through the point, $(a, f(a))$, the line that best approximates $f$ at this point is the tangent line, that is, the line whose slope (rate of change) is  $f′(a)$."
   ]
  },
  {
   "cell_type": "markdown",
   "id": "1d407cc6",
   "metadata": {},
   "source": [
    "The derivative of a function gives the rate of change of $x$ compared to $y$. In a straight line, this value is known as the slope. For a curve, this value is continually changing... The first derivative of the function $f(x)$ which we write as $f'(x)$ tells us whether a function is increasing or decreasing, and by how much it is increasing or decreasing... The second derivative $f″(x)$ measures the rate of change of the first derivative and tells us if the original function is concaved up or down. The third derivative $f'''(x)$ tells us where the second derivative has a critical point..."
   ]
  },
  {
   "cell_type": "code",
   "execution_count": null,
   "id": "145a835e",
   "metadata": {},
   "outputs": [],
   "source": []
  },
  {
   "cell_type": "code",
   "execution_count": null,
   "id": "37bbb0a4",
   "metadata": {},
   "outputs": [],
   "source": []
  },
  {
   "cell_type": "markdown",
   "id": "0b006860",
   "metadata": {},
   "source": [
    "Derive some Taylor series expansions. Some common functions are $\\sin(x)$ and $\\cos(x)$\n",
    "- to work with infinite sums, we have to \"cut\" them somewhere. Why are we allowed to do that? Think about the different terms: one Taylor expansion term doesn't affect the others;\n",
    "- how are those expansions used in calculators / numerical libraries?\n",
    "- write the code that computes the approximations;\n",
    "- test the code."
   ]
  },
  {
   "cell_type": "code",
   "execution_count": null,
   "id": "b1790557",
   "metadata": {},
   "outputs": [],
   "source": []
  },
  {
   "cell_type": "code",
   "execution_count": null,
   "id": "4763e2ce",
   "metadata": {},
   "outputs": [],
   "source": []
  },
  {
   "cell_type": "markdown",
   "id": "1e97fb33",
   "metadata": {},
   "source": [
    "- How many terms do we need? Visualize how the approximation is getting better as we include more terms in the Taylor expansion."
   ]
  },
  {
   "cell_type": "code",
   "execution_count": null,
   "id": "2483c96a",
   "metadata": {},
   "outputs": [],
   "source": []
  },
  {
   "cell_type": "code",
   "execution_count": null,
   "id": "8c2fbdea",
   "metadata": {},
   "outputs": [],
   "source": []
  }
 ],
 "metadata": {
  "kernelspec": {
   "display_name": "Python 3 (ipykernel)",
   "language": "python",
   "name": "python3"
  },
  "language_info": {
   "codemirror_mode": {
    "name": "ipython",
    "version": 3
   },
   "file_extension": ".py",
   "mimetype": "text/x-python",
   "name": "python",
   "nbconvert_exporter": "python",
   "pygments_lexer": "ipython3",
   "version": "3.9.13"
  }
 },
 "nbformat": 4,
 "nbformat_minor": 5
}
