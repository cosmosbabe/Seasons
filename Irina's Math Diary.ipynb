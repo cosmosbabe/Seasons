{
 "cells": [
  {
   "cell_type": "code",
   "execution_count": 1,
   "id": "73f534b7",
   "metadata": {},
   "outputs": [],
   "source": [
    "%matplotlib inline"
   ]
  },
  {
   "cell_type": "code",
   "execution_count": 2,
   "id": "8af7b179",
   "metadata": {},
   "outputs": [],
   "source": [
    "import math\n",
    "import numpy as np\n",
    "import matplotlib.pyplot as plt"
   ]
  },
  {
   "cell_type": "markdown",
   "id": "1b42ecbb",
   "metadata": {},
   "source": [
    "<p style=\"font-size: 17px; color: seagreen; text-align: center\"> Hi, there! Welcome to Irina's Math Diary"
   ]
  },
  {
   "cell_type": "markdown",
   "id": "8bbe5696",
   "metadata": {},
   "source": [
    "The Scientific Method Steps: Ask a question -> do some research -> form a hypothesis -> test the hypothesis with an experiment -> if the result aligns with the hypothesis -> OK -> if the result does not align with the hypothesis -> ask a new question -> and form a new hypothesis -> report results"
   ]
  },
  {
   "cell_type": "markdown",
   "id": "4c590486",
   "metadata": {},
   "source": [
    "The Scientific Method is useful when we are exploring something new, a new algorithm or a new codebase. A function is a process."
   ]
  },
  {
   "cell_type": "markdown",
   "id": "f7641069",
   "metadata": {},
   "source": [
    "1. Exponential capacities have the shape $$ y = ae^{bx} $$ where:\n",
    "- $a$, $b$ - constants\n",
    "- $e$ - Euler's number (approx. 2.71828)\n",
    "- $x$ - the free variable\n",
    "2. The $exp()$ function in Python calculates the exponential value with the base set to $e$:"
   ]
  },
  {
   "cell_type": "code",
   "execution_count": 3,
   "id": "65242b2c",
   "metadata": {},
   "outputs": [],
   "source": [
    "e = math.exp(1)    # Euler's number ** 1"
   ]
  },
  {
   "cell_type": "code",
   "execution_count": 4,
   "id": "225a48ef",
   "metadata": {},
   "outputs": [
    {
     "data": {
      "text/plain": [
       "2.718281828459045"
      ]
     },
     "execution_count": 4,
     "metadata": {},
     "output_type": "execute_result"
    }
   ],
   "source": [
    "e"
   ]
  },
  {
   "cell_type": "code",
   "execution_count": 5,
   "id": "b299eb1f",
   "metadata": {},
   "outputs": [
    {
     "data": {
      "text/plain": [
       "7.38905609893065"
      ]
     },
     "execution_count": 5,
     "metadata": {},
     "output_type": "execute_result"
    }
   ],
   "source": [
    "math.exp(2)   # Euler's number ** 2"
   ]
  },
  {
   "cell_type": "markdown",
   "id": "01feac8f",
   "metadata": {},
   "source": [
    "> Power means exponent, the 2 in $x^2$"
   ]
  },
  {
   "cell_type": "markdown",
   "id": "43a4b12a",
   "metadata": {},
   "source": [
    "The native $pow()$ function returns integer values and the $math.pow()$ function returns a floating number."
   ]
  },
  {
   "cell_type": "code",
   "execution_count": 6,
   "id": "51d71fd1",
   "metadata": {},
   "outputs": [
    {
     "data": {
      "text/plain": [
       "25"
      ]
     },
     "execution_count": 6,
     "metadata": {},
     "output_type": "execute_result"
    }
   ],
   "source": [
    "pow(5, 2)    # first number is the base, second number is the exponent(power)"
   ]
  },
  {
   "cell_type": "code",
   "execution_count": 7,
   "id": "ba9720a9",
   "metadata": {},
   "outputs": [
    {
     "data": {
      "text/plain": [
       "121"
      ]
     },
     "execution_count": 7,
     "metadata": {},
     "output_type": "execute_result"
    }
   ],
   "source": [
    "pow(11, 2)"
   ]
  },
  {
   "cell_type": "code",
   "execution_count": 8,
   "id": "47efe387",
   "metadata": {},
   "outputs": [
    {
     "data": {
      "text/plain": [
       "25.0"
      ]
     },
     "execution_count": 8,
     "metadata": {},
     "output_type": "execute_result"
    }
   ],
   "source": [
    "math.pow(5, 2)     # floating numbers are Python numbers, more precise"
   ]
  },
  {
   "cell_type": "code",
   "execution_count": 9,
   "id": "95b27842",
   "metadata": {},
   "outputs": [
    {
     "data": {
      "text/plain": [
       "121.0"
      ]
     },
     "execution_count": 9,
     "metadata": {},
     "output_type": "execute_result"
    }
   ],
   "source": [
    "math.pow(11, 2)"
   ]
  },
  {
   "cell_type": "markdown",
   "id": "950cbc05",
   "metadata": {},
   "source": [
    "We have also manual functions which we create and could call many times, again and again..."
   ]
  },
  {
   "cell_type": "code",
   "execution_count": 10,
   "id": "26073faa",
   "metadata": {},
   "outputs": [],
   "source": [
    "# square is the name of this function\n",
    "\n",
    "def square(x):\n",
    "    return x ** 2   # x^2 = x ** 2"
   ]
  },
  {
   "cell_type": "code",
   "execution_count": 11,
   "id": "5d5e3c38",
   "metadata": {},
   "outputs": [
    {
     "data": {
      "text/plain": [
       "25"
      ]
     },
     "execution_count": 11,
     "metadata": {},
     "output_type": "execute_result"
    }
   ],
   "source": [
    "square(5)"
   ]
  },
  {
   "cell_type": "code",
   "execution_count": 12,
   "id": "81c76ea4",
   "metadata": {},
   "outputs": [
    {
     "data": {
      "text/plain": [
       "100"
      ]
     },
     "execution_count": 12,
     "metadata": {},
     "output_type": "execute_result"
    }
   ],
   "source": [
    "square(10)"
   ]
  },
  {
   "cell_type": "code",
   "execution_count": 13,
   "id": "39fb74ff",
   "metadata": {},
   "outputs": [
    {
     "data": {
      "text/plain": [
       "121"
      ]
     },
     "execution_count": 13,
     "metadata": {},
     "output_type": "execute_result"
    }
   ],
   "source": [
    "square(11)"
   ]
  },
  {
   "cell_type": "markdown",
   "id": "a1c20e37",
   "metadata": {},
   "source": [
    "And there is $lambda$. Lambda is once in a lifetime function, no name, no future, just a single line of a statement:"
   ]
  },
  {
   "cell_type": "code",
   "execution_count": 14,
   "id": "aaec673b",
   "metadata": {},
   "outputs": [],
   "source": [
    "# lambda x: means the input   # (x + 3) means the output\n",
    "\n",
    "add_three = lambda x: x + 3"
   ]
  },
  {
   "cell_type": "code",
   "execution_count": 15,
   "id": "e7325f7d",
   "metadata": {},
   "outputs": [
    {
     "data": {
      "text/plain": [
       "6"
      ]
     },
     "execution_count": 15,
     "metadata": {},
     "output_type": "execute_result"
    }
   ],
   "source": [
    "add_three(3)"
   ]
  },
  {
   "cell_type": "code",
   "execution_count": 16,
   "id": "b1fdecae",
   "metadata": {},
   "outputs": [
    {
     "data": {
      "text/plain": [
       "18"
      ]
     },
     "execution_count": 16,
     "metadata": {},
     "output_type": "execute_result"
    }
   ],
   "source": [
    "add_three(15)"
   ]
  },
  {
   "cell_type": "markdown",
   "id": "d17cf71f",
   "metadata": {},
   "source": [
    "1. The $domain$ of a function are the inputs accepted by the function.\n",
    "2. $Codomain$ of a function are the destinations or available outputs by the function."
   ]
  },
  {
   "cell_type": "markdown",
   "id": "160b68d1",
   "metadata": {},
   "source": [
    "The $NumPy$ library is the core library for scientific computing in Python. It provides a high-performance multidimensional tools for working with arrays and processing those arrays. Arrays are containers of data which are able to store more than one value at a time."
   ]
  },
  {
   "cell_type": "code",
   "execution_count": 17,
   "id": "af68a624",
   "metadata": {},
   "outputs": [
    {
     "data": {
      "text/plain": [
       "array([0., 0., 0.])"
      ]
     },
     "execution_count": 17,
     "metadata": {},
     "output_type": "execute_result"
    }
   ],
   "source": [
    "np.zeros(3)"
   ]
  },
  {
   "cell_type": "code",
   "execution_count": 18,
   "id": "ebd74d28",
   "metadata": {},
   "outputs": [
    {
     "data": {
      "text/plain": [
       "array([[0., 0., 0.],\n",
       "       [0., 0., 0.]])"
      ]
     },
     "execution_count": 18,
     "metadata": {},
     "output_type": "execute_result"
    }
   ],
   "source": [
    "np.zeros((2, 3))"
   ]
  },
  {
   "cell_type": "code",
   "execution_count": 19,
   "id": "30850787",
   "metadata": {},
   "outputs": [
    {
     "data": {
      "text/plain": [
       "array([[2, 2, 2, 2],\n",
       "       [2, 2, 2, 2],\n",
       "       [2, 2, 2, 2]])"
      ]
     },
     "execution_count": 19,
     "metadata": {},
     "output_type": "execute_result"
    }
   ],
   "source": [
    "np.full((3, 4), 2)   # 3 rows, 4 columns of 2s"
   ]
  },
  {
   "cell_type": "code",
   "execution_count": 20,
   "id": "a68b9b26",
   "metadata": {},
   "outputs": [
    {
     "data": {
      "text/plain": [
       "array([[ 1,  2,  3,  4],\n",
       "       [ 7,  8,  9, 10]])"
      ]
     },
     "execution_count": 20,
     "metadata": {},
     "output_type": "execute_result"
    }
   ],
   "source": [
    "np.array([(1, 2, 3, 4), (7, 8, 9, 10)])"
   ]
  },
  {
   "cell_type": "markdown",
   "id": "aa0141f6",
   "metadata": {},
   "source": [
    "Comprehension:"
   ]
  },
  {
   "cell_type": "code",
   "execution_count": 21,
   "id": "68dc9efc",
   "metadata": {},
   "outputs": [
    {
     "data": {
      "text/plain": [
       "[0, 1, 2, 3, 4, 5, 6, 7, 8, 9]"
      ]
     },
     "execution_count": 21,
     "metadata": {},
     "output_type": "execute_result"
    }
   ],
   "source": [
    "[x for x in range(10)]   # Python does not include the last number"
   ]
  },
  {
   "cell_type": "code",
   "execution_count": 22,
   "id": "f14e54ce",
   "metadata": {},
   "outputs": [
    {
     "data": {
      "text/plain": [
       "[0, 1, 2, 3, 4, 5, 6, 7, 8, 9, 10]"
      ]
     },
     "execution_count": 22,
     "metadata": {},
     "output_type": "execute_result"
    }
   ],
   "source": [
    "[x for x in range(10 + 1)]"
   ]
  },
  {
   "cell_type": "markdown",
   "id": "13a716ed",
   "metadata": {},
   "source": [
    "$Matplotlib$ is also a library in Python and an excellent tool for data visualization:"
   ]
  },
  {
   "cell_type": "code",
   "execution_count": 23,
   "id": "6288f87f",
   "metadata": {},
   "outputs": [
    {
     "data": {
      "image/png": "[encoded data removed]",
      "text/plain": [
       "<Figure size 500x300 with 1 Axes>"
      ]
     },
     "metadata": {},
     "output_type": "display_data"
    }
   ],
   "source": [
    "x = np.linspace(-3, 4, 50)\n",
    "y = np.linspace(-3, 4, 50)\n",
    "\n",
    "plt.figure(figsize = (5, 3))\n",
    "plt.scatter(x, y, s = 4, color = \"mediumseagreen\")           # scatter tells the story by dot(s)\n",
    "plt.show()"
   ]
  },
  {
   "cell_type": "code",
   "execution_count": 24,
   "id": "d8999825",
   "metadata": {},
   "outputs": [
    {
     "data": {
      "image/png": "[encoded data removed]",
      "text/plain": [
       "<Figure size 500x300 with 1 Axes>"
      ]
     },
     "metadata": {},
     "output_type": "display_data"
    }
   ],
   "source": [
    "x = np.linspace(-3, 4, 50)\n",
    "y = np.linspace(-3, 4, 50)\n",
    "\n",
    "plt.figure(figsize = (5, 3))\n",
    "plt.plot(x, y, color = \"mediumseagreen\")                      # plot tells the story by line(s)\n",
    "plt.show()"
   ]
  },
  {
   "cell_type": "markdown",
   "id": "f4405289",
   "metadata": {},
   "source": [
    "<p style=\"color: #d9534f\"> The formulas here... </p>"
   ]
  },
  {
   "cell_type": "markdown",
   "id": "837bf6ba",
   "metadata": {},
   "source": [
    "Equation of a line: $$y = ax + b$$"
   ]
  },
  {
   "cell_type": "markdown",
   "id": "f0f14286",
   "metadata": {},
   "source": [
    "Roots of the quadratic equation $ax^2 + bx + c = 0$: \\begin{equation} x_{1,2} = \\frac{-b\\pm\\sqrt{b^2 - 4ac}}{2a} \\end{equation}"
   ]
  },
  {
   "cell_type": "markdown",
   "id": "187ae3ca",
   "metadata": {},
   "source": [
    "Taylor series expansion: \\begin{equation} f(x)|_{x=a} = f(a) + f'(a)(x-a) + \\frac{f''(a)}{2!}{(x-a)}^2 + \\cdots + \\frac{f^{(n)}(a)}{n!} {(x-a)}^n + \\cdots \\end{equation}"
   ]
  },
  {
   "cell_type": "markdown",
   "id": "bd1d984b",
   "metadata": {},
   "source": [
    "Binomial theorem: \\begin{equation} (x+y)^{n} = \\binom{n}{0} x^n y^0 + \\binom{n}{1} x^{n-1}y^1 + \\cdots + \\binom{n}{n} x^0 y^n = \\sum_{k=0}^{n} \\binom{n}{k} x^{n-k} y^k \\end{equation}"
   ]
  },
  {
   "cell_type": "markdown",
   "id": "edd58f16",
   "metadata": {},
   "source": [
    "An integral: $$\\int_{-\\infty}^{+\\infty}e^{-x^2}dx = \\sqrt{\\pi}$$"
   ]
  },
  {
   "cell_type": "markdown",
   "id": "ea4f0b8d",
   "metadata": {},
   "source": [
    "<p style=\"color: #d9534f; text-align: right\"> ...are math poetry, dear. </p>"
   ]
  },
  {
   "cell_type": "markdown",
   "id": "61f608cb",
   "metadata": {},
   "source": [
    "Vectors in 2D Coordinate Space:\n",
    "- Physics definition of a vector - a pointed segment in space\n",
    "- Computer Science definition - a list of numbers\n",
    "- Math definition - vectors can be added and multiplied by numbers and other vectors"
   ]
  },
  {
   "cell_type": "markdown",
   "id": "0b96265c",
   "metadata": {},
   "source": [
    "Spaces:\n",
    "- $2D$ has $x$-axis (real) and $y$-axis (imaginary)\n",
    "- $3D$ has $x$, $y$, $z$ (length, width, height)\n",
    "- in $4D$ we add time ($t$), an event in space and time"
   ]
  },
  {
   "cell_type": "markdown",
   "id": "8d456a6c",
   "metadata": {},
   "source": [
    "$Vector$ $Spaces$. Finding yourself in space. We must have a sort of horizon, in our case, it is the $zero$.\n",
    "- dimensions = length\n",
    "- many dimensions = tensor\n",
    "- scalar = a single value"
   ]
  },
  {
   "cell_type": "code",
   "execution_count": 25,
   "id": "206c390b",
   "metadata": {},
   "outputs": [],
   "source": [
    "A = np.array([\n",
    "    [2, 3, 7],\n",
    "    [8, 9, 1]\n",
    "])"
   ]
  },
  {
   "cell_type": "code",
   "execution_count": 26,
   "id": "b7b452f5",
   "metadata": {},
   "outputs": [],
   "source": [
    "B = np.array([\n",
    "    [1, -3, 0],\n",
    "    [2, -4, 1]\n",
    "])"
   ]
  },
  {
   "cell_type": "code",
   "execution_count": 27,
   "id": "df03bfcb",
   "metadata": {},
   "outputs": [
    {
     "data": {
      "text/plain": [
       "array([[ 3,  0,  7],\n",
       "       [10,  5,  2]])"
      ]
     },
     "execution_count": 27,
     "metadata": {},
     "output_type": "execute_result"
    }
   ],
   "source": [
    "A + B                    # vector + vector [2+1, 3+(-3), 7+0], [8+2, 9+(-4), 1+1]"
   ]
  },
  {
   "cell_type": "code",
   "execution_count": 28,
   "id": "a15820ad",
   "metadata": {},
   "outputs": [
    {
     "data": {
      "text/plain": [
       "array([[ 4,  6, 14],\n",
       "       [16, 18,  2]])"
      ]
     },
     "execution_count": 28,
     "metadata": {},
     "output_type": "execute_result"
    }
   ],
   "source": [
    "A * 2                       # vector * scalar [2*2, 3*2, 7*2], [8*2, 9*2, 1*2]"
   ]
  },
  {
   "cell_type": "code",
   "execution_count": 29,
   "id": "a4067a40",
   "metadata": {},
   "outputs": [
    {
     "data": {
      "text/plain": [
       "array([[  2,  -9,   0],\n",
       "       [ 16, -36,   1]])"
      ]
     },
     "execution_count": 29,
     "metadata": {},
     "output_type": "execute_result"
    }
   ],
   "source": [
    "A * B                          #  vector * vector [2*1, 3*(-3), 7*0], [8*2, 9*(-4), 1*1]"
   ]
  },
  {
   "cell_type": "markdown",
   "id": "6a21a348",
   "metadata": {},
   "source": [
    "> We multiply two vectors and the outer product is a $matrix$."
   ]
  },
  {
   "cell_type": "code",
   "execution_count": 30,
   "id": "2bed13fa",
   "metadata": {},
   "outputs": [],
   "source": [
    "# row vector\n",
    "\n",
    "x = np.array([[2, 3, 4]])"
   ]
  },
  {
   "cell_type": "code",
   "execution_count": 31,
   "id": "3058c32c",
   "metadata": {},
   "outputs": [],
   "source": [
    "# column vector\n",
    "\n",
    "y = np.array([[5], [-2], [3]])"
   ]
  },
  {
   "cell_type": "code",
   "execution_count": 32,
   "id": "64582784",
   "metadata": {},
   "outputs": [
    {
     "data": {
      "text/plain": [
       "array([[2, 3, 4]])"
      ]
     },
     "execution_count": 32,
     "metadata": {},
     "output_type": "execute_result"
    }
   ],
   "source": [
    "x"
   ]
  },
  {
   "cell_type": "code",
   "execution_count": 33,
   "id": "cbf45080",
   "metadata": {},
   "outputs": [
    {
     "data": {
      "text/plain": [
       "array([[ 5],\n",
       "       [-2],\n",
       "       [ 3]])"
      ]
     },
     "execution_count": 33,
     "metadata": {},
     "output_type": "execute_result"
    }
   ],
   "source": [
    "y"
   ]
  },
  {
   "cell_type": "code",
   "execution_count": 34,
   "id": "38aa4364",
   "metadata": {},
   "outputs": [
    {
     "data": {
      "text/plain": [
       "(1, 3)"
      ]
     },
     "execution_count": 34,
     "metadata": {},
     "output_type": "execute_result"
    }
   ],
   "source": [
    "# 1 row, 3 columns\n",
    "\n",
    "x.shape"
   ]
  },
  {
   "cell_type": "code",
   "execution_count": 35,
   "id": "9eda5d5f",
   "metadata": {},
   "outputs": [
    {
     "data": {
      "text/plain": [
       "(3, 1)"
      ]
     },
     "execution_count": 35,
     "metadata": {},
     "output_type": "execute_result"
    }
   ],
   "source": [
    "# 3 rows, 1 column\n",
    "\n",
    "y.shape"
   ]
  },
  {
   "cell_type": "code",
   "execution_count": 36,
   "id": "f8db5a28",
   "metadata": {},
   "outputs": [
    {
     "data": {
      "text/plain": [
       "array([[10, 15, 20],\n",
       "       [-4, -6, -8],\n",
       "       [ 6,  9, 12]])"
      ]
     },
     "execution_count": 36,
     "metadata": {},
     "output_type": "execute_result"
    }
   ],
   "source": [
    "x * y                       # [2*5, 3*5, 4*5], [2*(-2), 3*(-2), 4*(-2)], [2*3, 3*3, 4*3]"
   ]
  },
  {
   "cell_type": "code",
   "execution_count": 37,
   "id": "4832d402",
   "metadata": {},
   "outputs": [
    {
     "data": {
      "text/plain": [
       "array([[16]])"
      ]
     },
     "execution_count": 37,
     "metadata": {},
     "output_type": "execute_result"
    }
   ],
   "source": [
    "x.dot(y)    # dot product - this is not the number 16, it is the matrix 16"
   ]
  },
  {
   "cell_type": "code",
   "execution_count": 38,
   "id": "6cf979d4",
   "metadata": {},
   "outputs": [
    {
     "data": {
      "text/plain": [
       "array([[10, 15, 20],\n",
       "       [-4, -6, -8],\n",
       "       [ 6,  9, 12]])"
      ]
     },
     "execution_count": 38,
     "metadata": {},
     "output_type": "execute_result"
    }
   ],
   "source": [
    "y.dot(x)     # outer product (matrix)"
   ]
  },
  {
   "cell_type": "markdown",
   "id": "72c22c09",
   "metadata": {},
   "source": [
    "Machine Intelligence sees numbers arranged in matrices. It learns most through diversity. Humans follow the process and set the tone."
   ]
  },
  {
   "cell_type": "markdown",
   "id": "e8ed9750",
   "metadata": {},
   "source": [
    "$Matrix$ $Determinant$ (matrix diagonal) - when we interpret matrices as a movement, there is a sense in which some matrices stretch space out and others squeeze it in. This scaling factor has a name: the determinant (2D determinants = ad - bc)."
   ]
  },
  {
   "cell_type": "code",
   "execution_count": 39,
   "id": "c0f2a352",
   "metadata": {},
   "outputs": [],
   "source": [
    "determinant = 1   # normal unit space"
   ]
  },
  {
   "cell_type": "markdown",
   "id": "8a27e3d1",
   "metadata": {},
   "source": [
    "- d < 1 matrix squeezes things in\n",
    "- d < 0 matrix flips the orientation (mirroring)\n",
    "- d = 0 matrix shrinks the space so much, they flatten the entire grid on to a single line\n",
    "- d = 1 matrix does not stretch things out or squeeze them in, but can rotate\n",
    "- d > 1 matrix stretches thing out"
   ]
  },
  {
   "cell_type": "code",
   "execution_count": 40,
   "id": "88203d48",
   "metadata": {},
   "outputs": [],
   "source": [
    "square_matrix = np.array([[1, 3], [5, 4]])    # same number rows & columns"
   ]
  },
  {
   "cell_type": "code",
   "execution_count": 41,
   "id": "dbf3abcc",
   "metadata": {},
   "outputs": [
    {
     "data": {
      "text/plain": [
       "array([[1, 3],\n",
       "       [5, 4]])"
      ]
     },
     "execution_count": 41,
     "metadata": {},
     "output_type": "execute_result"
    }
   ],
   "source": [
    "square_matrix    # 2d = ad - bc = 1*4 - 3*5 = -11          # ad-bc = criss-cross"
   ]
  },
  {
   "cell_type": "markdown",
   "id": "a39d1ab8",
   "metadata": {},
   "source": [
    "$The$ $derivative$ is a fundamental tool of calculus that quantifies the sensitivity of change of a function's output with respect to its input:"
   ]
  },
  {
   "cell_type": "markdown",
   "id": "fb968c57",
   "metadata": {},
   "source": [
    "1. The derivative of $$x^n = nx^{n-1}$$"
   ]
  },
  {
   "cell_type": "markdown",
   "id": "c6b0cb70",
   "metadata": {},
   "source": [
    "2. The derivative of $$(x^2)' = 2x$$"
   ]
  },
  {
   "cell_type": "markdown",
   "id": "08fa5b1a",
   "metadata": {},
   "source": [
    "2. The derivative of  $$(x^3)'= 3x^2$$"
   ]
  },
  {
   "cell_type": "markdown",
   "id": "41f873d0",
   "metadata": {},
   "source": [
    "3. The derivative of $$(x^2 + x^3)' = 2x + 3x^2$$"
   ]
  },
  {
   "cell_type": "markdown",
   "id": "2e92d5df",
   "metadata": {},
   "source": [
    "4. The derivative of $$ (x^4 - 3x^3 + 2)' = 4x^3 - 9x^2 $$"
   ]
  },
  {
   "cell_type": "markdown",
   "id": "09f73739",
   "metadata": {},
   "source": [
    "Derivatives = rate of change. They represent slope, so can be used to find maxima or minima of a function. In real life:\n",
    "- to calculate profit and loss in business, using graphs;\n",
    "- to check temperature variation;\n",
    "- to determine the speed or distance, such as km per hour."
   ]
  },
  {
   "cell_type": "markdown",
   "id": "5898645b",
   "metadata": {},
   "source": [
    "Gradient Descent is an optimization method used for finding local extrema $grad(f)$. It is a combination of a vector and a derivative. If we follow the gradient, we arrive at a maximum and a negative gradient takes us to a minimum. It is an iterative process, we continue to apply until close enough. Important: it is not guaranteed that we will find the global extrema, we may get stuck in a local extremum. Here an example:"
   ]
  },
  {
   "cell_type": "markdown",
   "id": "7dd63942",
   "metadata": {},
   "source": [
    "Find a local minimum of the function $ f(x) = x^4 - 3x^3 + 2 $, start at $x = 6$"
   ]
  },
  {
   "cell_type": "code",
   "execution_count": 42,
   "id": "aa8cce9b",
   "metadata": {},
   "outputs": [
    {
     "name": "stdout",
     "output_type": "stream",
     "text": [
      "The local minimum occurs at: 2.2499646074278457\n"
     ]
    }
   ],
   "source": [
    "x_old = 0\n",
    "x_new = 6\n",
    "\n",
    "step_size = 0.01\n",
    "precision = 0.00001\n",
    "\n",
    "def df(x):\n",
    "    # (x^4 - 3x^3 + 2)' = 4x^3 - 9x^2\n",
    "    y = 4 * x**3 - 9 * x**2               # this is the derivative of f(x)\n",
    "    return y\n",
    "\n",
    "while abs(x_new - x_old) > precision:\n",
    "    x_old = x_new\n",
    "    x_new += -step_size * df(x_old)\n",
    "    \n",
    "print(\"The local minimum occurs at:\", x_new)"
   ]
  },
  {
   "cell_type": "markdown",
   "id": "34532e76",
   "metadata": {},
   "source": [
    "Zeno of Elea and his turtle... It is good to have in mind that algorithms prefer tiny steps and small changes. They get confused with big changes at a time."
   ]
  },
  {
   "cell_type": "markdown",
   "id": "780134ed",
   "metadata": {},
   "source": [
    "\\begin{equation} \\lim_{x \\to \\infty} x^2 = \\infty \\end{equation}"
   ]
  },
  {
   "cell_type": "markdown",
   "id": "b77a32a0",
   "metadata": {},
   "source": [
    "> \"Better our aim is infinity and we miss it, than it is too low and we reach it.\" $Michelangelo$ "
   ]
  },
  {
   "cell_type": "code",
   "execution_count": 43,
   "id": "b9cccb4b",
   "metadata": {},
   "outputs": [
    {
     "data": {
      "text/plain": [
       "'❤️'"
      ]
     },
     "execution_count": 43,
     "metadata": {},
     "output_type": "execute_result"
    }
   ],
   "source": [
    "(\"\\u2764\\ufe0f\")"
   ]
  },
  {
   "cell_type": "markdown",
   "id": "729bf103",
   "metadata": {},
   "source": [
    "$Infinity$ has a different kind of density, volume and inner value. In math we have also $infinitesimal$, infinity small. We sign with $dx$, $dy$, $dp$, $dt$ and so on... It is just another way to write $x$, $y$, $p$, $t$... In limits, we want to get infinitely close."
   ]
  },
  {
   "cell_type": "markdown",
   "id": "7624152e",
   "metadata": {},
   "source": [
    "$$\\lim_{x \\to 3} f(x)$$"
   ]
  },
  {
   "cell_type": "markdown",
   "id": "fe52373f",
   "metadata": {},
   "source": [
    "Limits describe how a function behaves near a point, instead of that point. Infinity big numbers and infinity small numbers are moving numbers, they are not fixed. If we have time $t$ = 3, time is not moving, the time will freeze at point 3, so..."
   ]
  },
  {
   "cell_type": "markdown",
   "id": "913fa87c",
   "metadata": {},
   "source": [
    "...$calculus$ is continuous change:"
   ]
  },
  {
   "cell_type": "markdown",
   "id": "66b131aa",
   "metadata": {},
   "source": [
    "Time freezes at $\\Delta t = 0$"
   ]
  },
  {
   "cell_type": "markdown",
   "id": "4c9f3a11",
   "metadata": {},
   "source": [
    "Time continues to move at $\\Delta t \\to 0$"
   ]
  },
  {
   "cell_type": "markdown",
   "id": "9d53ee51",
   "metadata": {},
   "source": [
    "The sign $ \\Delta $ is the Greek uppercase letter $Delta$ which represents change in some quantity. We use $dt$ which is an infinity small change in $t$:"
   ]
  },
  {
   "cell_type": "markdown",
   "id": "08a93901",
   "metadata": {},
   "source": [
    "$$ v(t) = \\lim_{dt \\to 0} \\dfrac{s(t + dt) - s(t)}{dt} $$"
   ]
  },
  {
   "cell_type": "markdown",
   "id": "f5fe70b0",
   "metadata": {},
   "source": [
    "$dt$ is infinity small time but not $zero$, it still moves. This is the magic of all calculus!"
   ]
  },
  {
   "cell_type": "markdown",
   "id": "d6ca684b",
   "metadata": {},
   "source": [
    "$Probability$ and $Combinatoric$ - the science of uncertainty, gambling and how to count things:\n",
    "- probability - the scientific method relies on experiments;\n",
    "- random event - a set of outcomes of an experiment;\n",
    "- random variable - an expression whose value is the outcome of an experiment, usually signed with the capital letters X, Y, Z"
   ]
  },
  {
   "cell_type": "markdown",
   "id": "49d4f484",
   "metadata": {},
   "source": [
    "It is not possible to predict the next outcome of a random event but the patterns become more evident with more trials:"
   ]
  },
  {
   "cell_type": "markdown",
   "id": "c583952e",
   "metadata": {},
   "source": [
    "\\begin{equation} p (A) = \\lim_{n \\to \\infty} \\dfrac{m}{n} \\end{equation}"
   ]
  },
  {
   "cell_type": "markdown",
   "id": "ba5b0a4a",
   "metadata": {},
   "source": [
    "where:\n",
    "- $A$ - the probability of the outcome, values between 0 and 1\n",
    "- $m$ - the number of trials we got\n",
    "- $n$ - all the trials, should be an integer ≥ 1"
   ]
  },
  {
   "cell_type": "markdown",
   "id": "c2f500fc",
   "metadata": {},
   "source": [
    "And here we have the probability of the result being in a tiny interval:"
   ]
  },
  {
   "cell_type": "markdown",
   "id": "3e50d9b6",
   "metadata": {},
   "source": [
    "\\begin{equation} dp = \\dfrac{dx}{b - a} \\end{equation}"
   ]
  },
  {
   "cell_type": "markdown",
   "id": "b6d08632",
   "metadata": {},
   "source": [
    "where:\n",
    "- $dp$ - tiny probability\n",
    "- $dx$ - tiny interval\n",
    "- $a$, $b$ - both ends"
   ]
  },
  {
   "cell_type": "code",
   "execution_count": 44,
   "id": "6ff038a7",
   "metadata": {},
   "outputs": [],
   "source": [
    "def throw_dice():\n",
    "    return np.random.randint(1, 7)"
   ]
  },
  {
   "cell_type": "code",
   "execution_count": 45,
   "id": "50e6d4e8",
   "metadata": {},
   "outputs": [
    {
     "data": {
      "image/png": "[encoded data removed]",
      "text/plain": [
       "<Figure size 500x300 with 1 Axes>"
      ]
     },
     "metadata": {},
     "output_type": "display_data"
    }
   ],
   "source": [
    "x = [throw_dice() for i in range(100)]\n",
    "\n",
    "plt.figure(figsize = (5, 3))\n",
    "plt.plot(x, linewidth = 1, color = \"mediumseagreen\")\n",
    "plt.show()"
   ]
  },
  {
   "cell_type": "markdown",
   "id": "d69289f8",
   "metadata": {},
   "source": [
    "Distribution used for classification and clustering tasks:\n",
    "- Binomial distribution - observing an outcome when performing a series of tests with only two possible outcomes (YES/NO, right/wrong, 0/1).\n",
    "    - binomial - connected two terms expression.\n",
    "- Gaussian distribution:\n",
    "    - $\\mu$ (mu) - mean, the center of a collection of numbers.\n",
    "    - $\\sigma$ (sigma) - standard deviation:\n",
    "        - when sigma low or small - data are clustered tightly around the mean;\n",
    "        - when sigma high or large - data are more spread out.\n",
    "$$ f(x; \\mu, \\sigma) $$\n",
    "- $f$ - function\n",
    "- $x$ - variable of interest\n",
    "- $\\mu$ - the mean of the distribution\n",
    "- $\\sigma$ - the standard deviation"
   ]
  },
  {
   "cell_type": "markdown",
   "id": "499863de",
   "metadata": {},
   "source": [
    "Python libraries are working behind the scenes, therefore, the code is fast and compact."
   ]
  },
  {
   "cell_type": "markdown",
   "id": "a7ec0591",
   "metadata": {},
   "source": [
    "____________________________________________________________________________________________________________________________"
   ]
  }
 ],
 "metadata": {
  "kernelspec": {
   "display_name": "Python 3 (ipykernel)",
   "language": "python",
   "name": "python3"
  },
  "language_info": {
   "codemirror_mode": {
    "name": "ipython",
    "version": 3
   },
   "file_extension": ".py",
   "mimetype": "text/x-python",
   "name": "python",
   "nbconvert_exporter": "python",
   "pygments_lexer": "ipython3",
   "version": "3.9.13"
  }
 },
 "nbformat": 4,
 "nbformat_minor": 5
}
