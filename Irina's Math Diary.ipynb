{
 "cells": [
  {
   "cell_type": "code",
   "execution_count": 56,
   "id": "73f534b7",
   "metadata": {},
   "outputs": [],
   "source": [
    "%matplotlib inline"
   ]
  },
  {
   "cell_type": "code",
   "execution_count": 57,
   "id": "8af7b179",
   "metadata": {},
   "outputs": [],
   "source": [
    "import math\n",
    "import numpy as np\n",
    "import matplotlib.pyplot as plt"
   ]
  },
  {
   "cell_type": "markdown",
   "id": "1b42ecbb",
   "metadata": {},
   "source": [
    "<p style=\"font-size: 17px; color: seagreen; text-align: center\"> Hi, there! Welcome to Irina's Math Diary"
   ]
  },
  {
   "cell_type": "markdown",
   "id": "58eb98c0",
   "metadata": {},
   "source": [
    "Why use the Scientific Method? It is useful when we are exploring something new, a new algorithm or a new codebase."
   ]
  },
  {
   "cell_type": "markdown",
   "id": "f7641069",
   "metadata": {},
   "source": [
    "1. Exponential capacities have the shape $$ y = ae^{bx} $$ where:\n",
    "- $a$ and $b$ are constants\n",
    "- $e$ speaks to Euler's number (approx. 2.71828)\n",
    "- $x$ is the free variable\n",
    "2. The exp() function in Python calculates the exponential value with the base set to $e$:"
   ]
  },
  {
   "cell_type": "code",
   "execution_count": 5,
   "id": "65242b2c",
   "metadata": {},
   "outputs": [],
   "source": [
    "e = math.exp(1)    # Euler's number ** 1"
   ]
  },
  {
   "cell_type": "code",
   "execution_count": 6,
   "id": "225a48ef",
   "metadata": {},
   "outputs": [
    {
     "data": {
      "text/plain": [
       "2.718281828459045"
      ]
     },
     "execution_count": 6,
     "metadata": {},
     "output_type": "execute_result"
    }
   ],
   "source": [
    "e"
   ]
  },
  {
   "cell_type": "code",
   "execution_count": 5,
   "id": "b299eb1f",
   "metadata": {},
   "outputs": [
    {
     "data": {
      "text/plain": [
       "7.38905609893065"
      ]
     },
     "execution_count": 5,
     "metadata": {},
     "output_type": "execute_result"
    }
   ],
   "source": [
    "math.exp(2)   # Euler's number ** 2"
   ]
  },
  {
   "cell_type": "markdown",
   "id": "01feac8f",
   "metadata": {},
   "source": [
    "> Power means exponent, the 2 in $x^2$"
   ]
  },
  {
   "cell_type": "code",
   "execution_count": 13,
   "id": "26073faa",
   "metadata": {},
   "outputs": [],
   "source": [
    "def square(x):\n",
    "    return x ** 2   # x^2 = x ** 2"
   ]
  },
  {
   "cell_type": "code",
   "execution_count": 14,
   "id": "5d5e3c38",
   "metadata": {},
   "outputs": [
    {
     "data": {
      "text/plain": [
       "25"
      ]
     },
     "execution_count": 14,
     "metadata": {},
     "output_type": "execute_result"
    }
   ],
   "source": [
    "square(5)"
   ]
  },
  {
   "cell_type": "code",
   "execution_count": 18,
   "id": "81c76ea4",
   "metadata": {},
   "outputs": [
    {
     "data": {
      "text/plain": [
       "100"
      ]
     },
     "execution_count": 18,
     "metadata": {},
     "output_type": "execute_result"
    }
   ],
   "source": [
    "square(10)"
   ]
  },
  {
   "cell_type": "code",
   "execution_count": 20,
   "id": "39fb74ff",
   "metadata": {},
   "outputs": [
    {
     "data": {
      "text/plain": [
       "121"
      ]
     },
     "execution_count": 20,
     "metadata": {},
     "output_type": "execute_result"
    }
   ],
   "source": [
    "square(11)"
   ]
  },
  {
   "cell_type": "markdown",
   "id": "6aa8a640",
   "metadata": {},
   "source": [
    "Above we have a function which, thanks to Python, we could call many times, again and again..."
   ]
  },
  {
   "cell_type": "markdown",
   "id": "a1c20e37",
   "metadata": {},
   "source": [
    "Below, $lambda$. Lambda is once in a life time function, no name, no future, just a single line of statement:"
   ]
  },
  {
   "cell_type": "markdown",
   "id": "69af9377",
   "metadata": {},
   "source": [
    "lambda x:    means the input, (x + 3)    means the output"
   ]
  },
  {
   "cell_type": "code",
   "execution_count": 16,
   "id": "aaec673b",
   "metadata": {},
   "outputs": [],
   "source": [
    "add_three = lambda x: x + 3"
   ]
  },
  {
   "cell_type": "code",
   "execution_count": 21,
   "id": "e7325f7d",
   "metadata": {},
   "outputs": [
    {
     "data": {
      "text/plain": [
       "6"
      ]
     },
     "execution_count": 21,
     "metadata": {},
     "output_type": "execute_result"
    }
   ],
   "source": [
    "add_three(3)"
   ]
  },
  {
   "cell_type": "code",
   "execution_count": 22,
   "id": "b1fdecae",
   "metadata": {},
   "outputs": [
    {
     "data": {
      "text/plain": [
       "9"
      ]
     },
     "execution_count": 22,
     "metadata": {},
     "output_type": "execute_result"
    }
   ],
   "source": [
    "add_three(6)"
   ]
  },
  {
   "cell_type": "markdown",
   "id": "160b68d1",
   "metadata": {},
   "source": [
    "The $NumPy$ library is the core library for scientific computing in Python. It provides a high-performance multidimensional tools for working with arrays and processing those arrays. Arrays are containers of data which are able to store more than one value at a time."
   ]
  },
  {
   "cell_type": "code",
   "execution_count": 25,
   "id": "af68a624",
   "metadata": {},
   "outputs": [
    {
     "data": {
      "text/plain": [
       "array([0., 0., 0.])"
      ]
     },
     "execution_count": 25,
     "metadata": {},
     "output_type": "execute_result"
    }
   ],
   "source": [
    "np.zeros(3)"
   ]
  },
  {
   "cell_type": "code",
   "execution_count": 30,
   "id": "ebd74d28",
   "metadata": {},
   "outputs": [
    {
     "data": {
      "text/plain": [
       "array([[0., 0., 0.],\n",
       "       [0., 0., 0.]])"
      ]
     },
     "execution_count": 30,
     "metadata": {},
     "output_type": "execute_result"
    }
   ],
   "source": [
    "np.zeros((2, 3))"
   ]
  },
  {
   "cell_type": "code",
   "execution_count": 31,
   "id": "30850787",
   "metadata": {},
   "outputs": [
    {
     "data": {
      "text/plain": [
       "array([[2, 2, 2, 2],\n",
       "       [2, 2, 2, 2],\n",
       "       [2, 2, 2, 2]])"
      ]
     },
     "execution_count": 31,
     "metadata": {},
     "output_type": "execute_result"
    }
   ],
   "source": [
    "np.full((3, 4), 2)   # 3 rows, 4 columns of 2s"
   ]
  },
  {
   "cell_type": "code",
   "execution_count": 33,
   "id": "a68b9b26",
   "metadata": {},
   "outputs": [
    {
     "data": {
      "text/plain": [
       "array([[ 1,  2,  3,  4],\n",
       "       [ 7,  8,  9, 10]])"
      ]
     },
     "execution_count": 33,
     "metadata": {},
     "output_type": "execute_result"
    }
   ],
   "source": [
    "np.array([(1, 2, 3, 4), (7, 8, 9, 10)])"
   ]
  },
  {
   "cell_type": "markdown",
   "id": "aa0141f6",
   "metadata": {},
   "source": [
    "Comprehension:"
   ]
  },
  {
   "cell_type": "code",
   "execution_count": 36,
   "id": "68dc9efc",
   "metadata": {},
   "outputs": [
    {
     "data": {
      "text/plain": [
       "[0, 1, 2, 3, 4, 5, 6, 7, 8, 9]"
      ]
     },
     "execution_count": 36,
     "metadata": {},
     "output_type": "execute_result"
    }
   ],
   "source": [
    "[x for x in range(10)]   # Python does not include the last number"
   ]
  },
  {
   "cell_type": "code",
   "execution_count": 37,
   "id": "f14e54ce",
   "metadata": {},
   "outputs": [
    {
     "data": {
      "text/plain": [
       "[0, 1, 2, 3, 4, 5, 6, 7, 8, 9, 10]"
      ]
     },
     "execution_count": 37,
     "metadata": {},
     "output_type": "execute_result"
    }
   ],
   "source": [
    "[x for x in range(10 + 1)]"
   ]
  },
  {
   "cell_type": "markdown",
   "id": "13a716ed",
   "metadata": {},
   "source": [
    "$Matplotlib$ is also a library in Python and an excellent tool for data visualization:"
   ]
  },
  {
   "cell_type": "code",
   "execution_count": 4,
   "id": "6288f87f",
   "metadata": {},
   "outputs": [
    {
     "data": {
      "image/png": "[encoded data removed]",
      "text/plain": [
       "<Figure size 500x300 with 1 Axes>"
      ]
     },
     "metadata": {},
     "output_type": "display_data"
    }
   ],
   "source": [
    "x = np.linspace(-3, 4, 50)\n",
    "y = np.linspace(-3, 4, 50)\n",
    "\n",
    "plt.figure(figsize = (5, 3))\n",
    "plt.scatter(x, y, s = 4, color = \"mediumseagreen\")           # scatter tells the story by dot(s)\n",
    "plt.show()"
   ]
  },
  {
   "cell_type": "code",
   "execution_count": 68,
   "id": "d8999825",
   "metadata": {},
   "outputs": [
    {
     "data": {
      "image/png": "[encoded data removed]",
      "text/plain": [
       "<Figure size 500x300 with 1 Axes>"
      ]
     },
     "metadata": {},
     "output_type": "display_data"
    }
   ],
   "source": [
    "x = np.linspace(-3, 4, 50)\n",
    "y = np.linspace(-3, 4, 50)\n",
    "\n",
    "plt.figure(figsize = (5, 3))\n",
    "plt.plot(x, y, color = \"mediumseagreen\")                      # plot tells the story by line(s)\n",
    "plt.show()"
   ]
  },
  {
   "cell_type": "markdown",
   "id": "f4405289",
   "metadata": {},
   "source": [
    "<p style=\"color: #d9534f\"> The formulas here... </p>"
   ]
  },
  {
   "cell_type": "markdown",
   "id": "837bf6ba",
   "metadata": {},
   "source": [
    "Equation of a line: $$y = ax + b$$"
   ]
  },
  {
   "cell_type": "markdown",
   "id": "f0f14286",
   "metadata": {},
   "source": [
    "Roots of the quadratic equation $ax^2 + bx + c = 0$: \\begin{equation} x_{1,2} = \\frac{-b\\pm\\sqrt{b^2 - 4ac}}{2a} \\end{equation}"
   ]
  },
  {
   "cell_type": "markdown",
   "id": "187ae3ca",
   "metadata": {},
   "source": [
    "Taylor series expansion: \\begin{equation} f(x)|_{x=a} = f(a) + f'(a)(x-a) + \\frac{f''(a)}{2!}{(x-a)}^2 + \\cdots + \\frac{f^{(n)}(a)}{n!} {(x-a)}^n + \\cdots \\end{equation}"
   ]
  },
  {
   "cell_type": "markdown",
   "id": "bd1d984b",
   "metadata": {},
   "source": [
    "Binomial theorem: \\begin{equation} (x+y)^{n} = \\binom{n}{0} x^n y^0 + \\binom{n}{1} x^{n-1}y^1 + \\cdots + \\binom{n}{n} x^0 y^n = \\sum_{k=0}^{n} \\binom{n}{k} x^{n-k} y^k \\end{equation}"
   ]
  },
  {
   "cell_type": "markdown",
   "id": "edd58f16",
   "metadata": {},
   "source": [
    "An integral: $$\\int_{-\\infty}^{+\\infty}e^{-x^2}dx = \\sqrt{\\pi}$$"
   ]
  },
  {
   "cell_type": "markdown",
   "id": "ea4f0b8d",
   "metadata": {},
   "source": [
    "<p style=\"color: #d9534f; text-align: right\"> ...are math poetry, dear. </p>"
   ]
  },
  {
   "cell_type": "markdown",
   "id": "61f608cb",
   "metadata": {},
   "source": [
    "$Vectors$ in 2D Coordinate Space:\n",
    "- Physics definition of a Vector - a pointed segment in space\n",
    "- Math definition - vectors can be added and multiplied by numbers and other vectors\n",
    "- Computer Science definition - a list of numbers"
   ]
  },
  {
   "cell_type": "markdown",
   "id": "8d456a6c",
   "metadata": {},
   "source": [
    "Vector Spaces. Finding yourself in space (starting point). Dimensions = length. Many dimensions = tensor. Scalar = a single value."
   ]
  },
  {
   "cell_type": "code",
   "execution_count": 16,
   "id": "206c390b",
   "metadata": {},
   "outputs": [],
   "source": [
    "A = np.array([\n",
    "    [2, 3, 7],\n",
    "    [8, 9, 1]\n",
    "])"
   ]
  },
  {
   "cell_type": "code",
   "execution_count": 17,
   "id": "b7b452f5",
   "metadata": {},
   "outputs": [],
   "source": [
    "B = np.array([\n",
    "    [1, -3, 0],\n",
    "    [2, -4, 1]\n",
    "])"
   ]
  },
  {
   "cell_type": "code",
   "execution_count": 18,
   "id": "df03bfcb",
   "metadata": {},
   "outputs": [
    {
     "data": {
      "text/plain": [
       "array([[ 3,  0,  7],\n",
       "       [10,  5,  2]])"
      ]
     },
     "execution_count": 18,
     "metadata": {},
     "output_type": "execute_result"
    }
   ],
   "source": [
    "A + B                    # vector + vector [2+1, 3+(-3), 7+0], [8+2, 9+(-4), 1+1]"
   ]
  },
  {
   "cell_type": "code",
   "execution_count": 19,
   "id": "a15820ad",
   "metadata": {},
   "outputs": [
    {
     "data": {
      "text/plain": [
       "array([[ 4,  6, 14],\n",
       "       [16, 18,  2]])"
      ]
     },
     "execution_count": 19,
     "metadata": {},
     "output_type": "execute_result"
    }
   ],
   "source": [
    "A * 2                       # vector * scalar [2*2, 3*2, 7*2], [8*2, 9*2, 1*2]"
   ]
  },
  {
   "cell_type": "code",
   "execution_count": 20,
   "id": "a4067a40",
   "metadata": {},
   "outputs": [
    {
     "data": {
      "text/plain": [
       "array([[  2,  -9,   0],\n",
       "       [ 16, -36,   1]])"
      ]
     },
     "execution_count": 20,
     "metadata": {},
     "output_type": "execute_result"
    }
   ],
   "source": [
    "A * B                          #  vector * vector [2*1, 3*(-3), 7*0], [8*2, 9*(-4), 1*1]"
   ]
  },
  {
   "cell_type": "markdown",
   "id": "6a21a348",
   "metadata": {},
   "source": [
    "We multiply two vectors and the outer product is a matrix."
   ]
  },
  {
   "cell_type": "code",
   "execution_count": 21,
   "id": "2bed13fa",
   "metadata": {},
   "outputs": [],
   "source": [
    "# row vector\n",
    "\n",
    "x = np.array([[2, 3, 4]])"
   ]
  },
  {
   "cell_type": "code",
   "execution_count": 22,
   "id": "3058c32c",
   "metadata": {},
   "outputs": [],
   "source": [
    "# column vector\n",
    "\n",
    "y = np.array([[5], [-2], [3]])"
   ]
  },
  {
   "cell_type": "code",
   "execution_count": 26,
   "id": "64582784",
   "metadata": {},
   "outputs": [
    {
     "data": {
      "text/plain": [
       "array([[2, 3, 4]])"
      ]
     },
     "execution_count": 26,
     "metadata": {},
     "output_type": "execute_result"
    }
   ],
   "source": [
    "x"
   ]
  },
  {
   "cell_type": "code",
   "execution_count": 24,
   "id": "cbf45080",
   "metadata": {},
   "outputs": [
    {
     "data": {
      "text/plain": [
       "array([[ 5],\n",
       "       [-2],\n",
       "       [ 3]])"
      ]
     },
     "execution_count": 24,
     "metadata": {},
     "output_type": "execute_result"
    }
   ],
   "source": [
    "y"
   ]
  },
  {
   "cell_type": "code",
   "execution_count": 28,
   "id": "38aa4364",
   "metadata": {},
   "outputs": [
    {
     "data": {
      "text/plain": [
       "(1, 3)"
      ]
     },
     "execution_count": 28,
     "metadata": {},
     "output_type": "execute_result"
    }
   ],
   "source": [
    "# 1 row, 3 columns\n",
    "\n",
    "x.shape"
   ]
  },
  {
   "cell_type": "code",
   "execution_count": 30,
   "id": "9eda5d5f",
   "metadata": {},
   "outputs": [
    {
     "data": {
      "text/plain": [
       "(3, 1)"
      ]
     },
     "execution_count": 30,
     "metadata": {},
     "output_type": "execute_result"
    }
   ],
   "source": [
    "# 3 rows, 1 column\n",
    "\n",
    "y.shape"
   ]
  },
  {
   "cell_type": "code",
   "execution_count": 32,
   "id": "f8db5a28",
   "metadata": {},
   "outputs": [
    {
     "data": {
      "text/plain": [
       "array([[10, 15, 20],\n",
       "       [-4, -6, -8],\n",
       "       [ 6,  9, 12]])"
      ]
     },
     "execution_count": 32,
     "metadata": {},
     "output_type": "execute_result"
    }
   ],
   "source": [
    "x * y                       # [2*5, 3*5, 4*5], [2*(-2), 3*(-2), 4*(-2)], [2*3, 3*3, 4*3]"
   ]
  },
  {
   "cell_type": "code",
   "execution_count": 54,
   "id": "4832d402",
   "metadata": {},
   "outputs": [
    {
     "data": {
      "text/plain": [
       "array([[16]])"
      ]
     },
     "execution_count": 54,
     "metadata": {},
     "output_type": "execute_result"
    }
   ],
   "source": [
    "x.dot(y)    # dot product - this is not the number 16, it is the matrix 16"
   ]
  },
  {
   "cell_type": "code",
   "execution_count": 55,
   "id": "6cf979d4",
   "metadata": {},
   "outputs": [
    {
     "data": {
      "text/plain": [
       "array([[10, 15, 20],\n",
       "       [-4, -6, -8],\n",
       "       [ 6,  9, 12]])"
      ]
     },
     "execution_count": 55,
     "metadata": {},
     "output_type": "execute_result"
    }
   ],
   "source": [
    "y.dot(x)     # outer product (matrix)"
   ]
  },
  {
   "cell_type": "markdown",
   "id": "07faaa0d",
   "metadata": {},
   "source": [
    "Machines see numbers arranged in matrices. They learn most through diversity. Humans follow the process and set the tone."
   ]
  },
  {
   "cell_type": "markdown",
   "id": "780134ed",
   "metadata": {},
   "source": [
    "\\begin{equation} \\lim_{x \\to \\infty} x^2 = \\infty \\end{equation}"
   ]
  },
  {
   "cell_type": "markdown",
   "id": "b77a32a0",
   "metadata": {},
   "source": [
    "Better our aim is infinity and we miss it, than it is too low and we reach it."
   ]
  },
  {
   "cell_type": "markdown",
   "id": "d6ca684b",
   "metadata": {},
   "source": [
    "Zeno of Elea and his turtle... It is good to have in mind that algorithms prefer tiny steps and small changes. They get confused with big changes at a time."
   ]
  },
  {
   "cell_type": "markdown",
   "id": "a7ec0591",
   "metadata": {},
   "source": [
    "____________________________________________________________________________________________________________________________"
   ]
  },
  {
   "cell_type": "markdown",
   "id": "788bb114",
   "metadata": {},
   "source": [
    "Python libraries are working behind the scenes, therefore, the code is fast and compact."
   ]
  }
 ],
 "metadata": {
  "kernelspec": {
   "display_name": "Python 3 (ipykernel)",
   "language": "python",
   "name": "python3"
  },
  "language_info": {
   "codemirror_mode": {
    "name": "ipython",
    "version": 3
   },
   "file_extension": ".py",
   "mimetype": "text/x-python",
   "name": "python",
   "nbconvert_exporter": "python",
   "pygments_lexer": "ipython3",
   "version": "3.9.13"
  }
 },
 "nbformat": 4,
 "nbformat_minor": 5
}
