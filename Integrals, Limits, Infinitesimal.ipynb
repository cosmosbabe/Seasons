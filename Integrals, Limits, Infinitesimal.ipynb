{
 "cells": [
  {
   "cell_type": "code",
   "execution_count": 2,
   "id": "8aa7c52f",
   "metadata": {},
   "outputs": [],
   "source": [
    "%matplotlib inline"
   ]
  },
  {
   "cell_type": "code",
   "execution_count": 3,
   "id": "eb31d939",
   "metadata": {},
   "outputs": [],
   "source": [
    "import math\n",
    "import numpy as np\n",
    "import matplotlib.pyplot as plt"
   ]
  },
  {
   "cell_type": "code",
   "execution_count": 55,
   "id": "c6833f16",
   "metadata": {},
   "outputs": [],
   "source": [
    "from matplotlib.patches import Polygon"
   ]
  },
  {
   "cell_type": "markdown",
   "id": "df0caa48",
   "metadata": {},
   "source": [
    "<p style=\"font-size: 20px; text-align: center; color: darkmagenta\" > Integrals, Limits, Infinitesimal"
   ]
  },
  {
   "cell_type": "markdown",
   "id": "7aeea2e7",
   "metadata": {},
   "source": [
    "Integrals are the most elegant signs in the math gang! They represent integration. Integration is the process of computing an integral - a method of adding or summing up parts, to find the whole. It is a reversed process of differentiation where we reduce the function into parts. Integration and differentiation are the two fundamental operations in $calculus$, the study of continuous change. So, an integral is the continuous analog of a sum. Please, enjoy its beauty:"
   ]
  },
  {
   "cell_type": "markdown",
   "id": "d2bc5d51",
   "metadata": {},
   "source": [
    "$$ \\int or \\int_{a}^{b} $$"
   ]
  },
  {
   "cell_type": "markdown",
   "id": "f3a19d2c",
   "metadata": {},
   "source": [
    "The constant $a$ points where the journey starts and $b$ - where it ends. This is called the Definite Integral, it has a start point and an end point. Points are defined. An integral which has no starting point and no ending point (called limits) is an Indefinite Integral. The integral of a function can be geometrically interpreted as the area under the curve. Here we see the integral of a function $f(x)$: "
   ]
  },
  {
   "cell_type": "markdown",
   "id": "82af18a7",
   "metadata": {},
   "source": [
    "$$ \\int_{a}^{b} f(x)dx $$"
   ]
  },
  {
   "cell_type": "code",
   "execution_count": 67,
   "id": "4413c64b",
   "metadata": {},
   "outputs": [
    {
     "data": {
      "image/png": "[encoded data removed]",
      "text/plain": [
       "<Figure size 640x480 with 1 Axes>"
      ]
     },
     "metadata": {},
     "output_type": "display_data"
    }
   ],
   "source": [
    "def function(x):\n",
    "    return (x - 3) * (x - 5) * (x - 7) + 85\n",
    "\n",
    "\n",
    "# Integral limits\n",
    "a = 2\n",
    "b = 9\n",
    "\n",
    "x = np.linspace(0, 10)\n",
    "y = function(x)\n",
    "\n",
    "fig, ax = plt.subplots()\n",
    "plt.plot(x, y, 'r', linewidth = 1.5)  # r is for the text\n",
    "ax.set_ylim(bottom = 0)  # area under the curve till bottom\n",
    "\n",
    "# Shaded region\n",
    "ix = np.linspace(a, b)\n",
    "iy = function(ix)\n",
    "vertices = [(a, 0), *zip(ix, iy), (b, 0)]\n",
    "poly = Polygon(vertices, facecolor = '0.955', edgecolor = '0.5')\n",
    "ax.add_patch(poly)\n",
    "\n",
    "# Text and Axes\n",
    "ax.text(0.5 * (a + b), 35, r\"$\\int_a^b f(x)\\mathrm{d}x$\",\n",
    "        horizontalalignment = 'right', fontsize = 18)\n",
    "\n",
    "fig.text(0.9, 0.05, '$x$')\n",
    "fig.text(0.1, 0.9, '$y$')\n",
    "\n",
    "ax.spines[['top', 'right']].set_visible(False)\n",
    "ax.set_xticks([a, b], labels = ['$a$', '$b$'])\n",
    "ax.set_yticks([])\n",
    "\n",
    "plt.show()"
   ]
  },
  {
   "cell_type": "markdown",
   "id": "7ae45449",
   "metadata": {},
   "source": [
    "The integral of the function $x$ over the range $x$ = $a$ to $x$ = $b$ gives the area under the curve between $a$ and $b$. The symbol $dx$, called the differential of the variable $x$, indicates that the variable of integration is $x$. The $d$ in front shows an infinitesimal value approaching zero. The integral gives us a mathematical way of drawing an infinite number of blocks and getting a precise analytical expression for the area. "
   ]
  },
  {
   "cell_type": "markdown",
   "id": "6ccdf791",
   "metadata": {},
   "source": [
    "$$ \\lim_{\\Delta x \\to 0} f(x)\\Delta x $$"
   ]
  },
  {
   "cell_type": "markdown",
   "id": "4986b425",
   "metadata": {},
   "source": [
    "The sign $ \\Delta $\n",
    "is the Greek uppercase letter $Delta$ which represents change in some quantity. We use $dx$ which is an infinity small change in $x$:"
   ]
  },
  {
   "cell_type": "markdown",
   "id": "db91154f",
   "metadata": {},
   "source": [
    "$$ \\lim_{dx \\to 0} f(x)dx $$"
   ]
  },
  {
   "cell_type": "markdown",
   "id": "d59975c9",
   "metadata": {},
   "source": [
    "And the symbol $lim$ means we are taking a limit of something. The limit of the expression $dx$ when $x$ approaches $zero$. The idea of infinitesimal calculus. An infinitesimal number is a quantity that is closer to zero but is not zero. In fact, $dx$ has no numerical value. It captures the idea of calculus of smaller and smaller interval sizes (infinity small) to figure out something precisely about a continuous function. Infinity is not a number, either, it is an idea."
   ]
  },
  {
   "cell_type": "markdown",
   "id": "66b0941d",
   "metadata": {},
   "source": [
    "$$ \\lim_{x \\to \\infty} x^2 = \\infty $$"
   ]
  },
  {
   "cell_type": "markdown",
   "id": "5c1cb160",
   "metadata": {},
   "source": [
    "In math and science there are many situations in which analytical integration of a function or a differential equation is difficult to impossible to solve. Python can help through its high level mathematical algorithms. A simple trapezium formula calculates the integral of a function $f(x)$ as the area under the curve, summing up infinitesimally thin rectangles with height and width to compute the area precisely."
   ]
  },
  {
   "cell_type": "markdown",
   "id": "a824ca82",
   "metadata": {},
   "source": [
    "Stay tuned for more updates..."
   ]
  },
  {
   "cell_type": "markdown",
   "id": "a17c47d7",
   "metadata": {},
   "source": [
    "________________________________________________________________________________________________________________________________"
   ]
  },
  {
   "cell_type": "markdown",
   "id": "9a7c2ec5",
   "metadata": {},
   "source": [
    "References:"
   ]
  },
  {
   "cell_type": "markdown",
   "id": "408ec5c1",
   "metadata": {},
   "source": [
    " 1. Function code from https://matplotlib.org/stable/gallery/showcase/integral.html"
   ]
  }
 ],
 "metadata": {
  "kernelspec": {
   "display_name": "Python 3 (ipykernel)",
   "language": "python",
   "name": "python3"
  },
  "language_info": {
   "codemirror_mode": {
    "name": "ipython",
    "version": 3
   },
   "file_extension": ".py",
   "mimetype": "text/x-python",
   "name": "python",
   "nbconvert_exporter": "python",
   "pygments_lexer": "ipython3",
   "version": "3.9.13"
  }
 },
 "nbformat": 4,
 "nbformat_minor": 5
}
